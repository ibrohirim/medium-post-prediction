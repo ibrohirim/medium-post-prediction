{
 "cells": [
  {
   "cell_type": "code",
   "execution_count": 1,
   "metadata": {},
   "outputs": [],
   "source": [
    "import numpy as np\n",
    "import pandas as pd\n",
    "from sklearn.model_selection import train_test_split\n",
    "from sklearn.naive_bayes import GaussianNB\n",
    "import matplotlib.pyplot as plt\n",
    "from sklearn.feature_extraction.text import TfidfVectorizer\n",
    "from sklearn.preprocessing import MinMaxScaler"
   ]
  },
  {
   "cell_type": "code",
   "execution_count": 2,
   "metadata": {},
   "outputs": [],
   "source": [
    "file = pd.read_csv('./articles.csv')\n",
    "df = pd.DataFrame(file)"
   ]
  },
  {
   "cell_type": "code",
   "execution_count": 3,
   "metadata": {},
   "outputs": [],
   "source": [
    "df = df.drop(['author', 'link'], axis=1)"
   ]
  },
  {
   "cell_type": "code",
   "execution_count": 4,
   "metadata": {},
   "outputs": [],
   "source": [
    "def convert_to_float(string):\n",
    "    num = 0;\n",
    "    if 'K' in string:\n",
    "        num = string[:-1]\n",
    "        num = float(num)\n",
    "        num = num * 1000    \n",
    "        return num\n",
    "    else: \n",
    "        return float(string)"
   ]
  },
  {
   "cell_type": "code",
   "execution_count": 5,
   "metadata": {},
   "outputs": [],
   "source": [
    "for val in df.claps:\n",
    "    newVal = convert_to_float(val)\n",
    "    df = df.replace(to_replace=val, value=newVal)"
   ]
  },
  {
   "cell_type": "code",
   "execution_count": 6,
   "metadata": {},
   "outputs": [],
   "source": [
    "tfidf_title = TfidfVectorizer()\n",
    "tfidf_text = TfidfVectorizer()"
   ]
  },
  {
   "cell_type": "code",
   "execution_count": 7,
   "metadata": {},
   "outputs": [],
   "source": [
    "\n",
    "df['title'] = df['title'].apply(lambda v: np.array(tfidf_title.fit_transform([v]).toarray()))\n",
    "df['text'] = df['text'].apply(lambda v: np.array(tfidf_text.fit_transform([v]).toarray()))"
   ]
  },
  {
   "cell_type": "code",
   "execution_count": 8,
   "metadata": {},
   "outputs": [],
   "source": [
    "# for val in df.title:\n",
    "#     vect = tfidf_title.transform([val])\n",
    "#     df = df.replace(to_replace=val, value='hello', inplace=True)\n",
    "    \n",
    "# for val in df.text:\n",
    "#     vect = tfidf_text.transform([val])\n",
    "#     df = df.replace(to_replace=val, value='hello')"
   ]
  },
  {
   "cell_type": "code",
   "execution_count": 9,
   "metadata": {},
   "outputs": [
    {
     "name": "stdout",
     "output_type": "stream",
     "text": [
      "0      [[0.006062833405797245, 0.006062833405797245, ...\n",
      "1      [[0.008743049306486908, 0.008743049306486908, ...\n",
      "2      [[0.004216707563657476, 0.012650122690972427, ...\n",
      "3      [[0.0074021293066908345, 0.0074021293066908345...\n",
      "4      [[0.004300488584760084, 0.004300488584760084, ...\n",
      "                             ...                        \n",
      "332    [[0.006485171584264526, 0.006485171584264526, ...\n",
      "333    [[0.005411813243885238, 0.005411813243885238, ...\n",
      "334    [[0.01499400359760168, 0.05997601439040672, 0....\n",
      "335    [[0.009474098875451958, 0.009474098875451958, ...\n",
      "336    [[0.03045253737305803, 0.005075422895509672, 0...\n",
      "Name: text, Length: 337, dtype: object\n"
     ]
    }
   ],
   "source": [
    "print(df.text)"
   ]
  },
  {
   "cell_type": "code",
   "execution_count": null,
   "metadata": {
    "scrolled": true
   },
   "outputs": [],
   "source": []
  },
  {
   "cell_type": "code",
   "execution_count": 10,
   "metadata": {},
   "outputs": [],
   "source": [
    "y = df.claps\n",
    "df = df.drop('claps', axis=1)"
   ]
  },
  {
   "cell_type": "code",
   "execution_count": 11,
   "metadata": {},
   "outputs": [],
   "source": [
    "y = y.to_numpy()"
   ]
  },
  {
   "cell_type": "code",
   "execution_count": 12,
   "metadata": {},
   "outputs": [],
   "source": [
    "scaler = MinMaxScaler()\n",
    "\n",
    "y = y.reshape(-1, 1)\n",
    "\n",
    "y = scaler.fit_transform(y)\n",
    "\n",
    "X_train, X_test, y_train, y_test = train_test_split(df, y, test_size=0.2, random_state=1)"
   ]
  },
  {
   "cell_type": "code",
   "execution_count": 13,
   "metadata": {},
   "outputs": [
    {
     "data": {
      "text/plain": [
       "(269,)"
      ]
     },
     "execution_count": 13,
     "metadata": {},
     "output_type": "execute_result"
    }
   ],
   "source": [
    "y_train = y_train.reshape(y_train.shape[0],)\n",
    "y_train.shape"
   ]
  },
  {
   "cell_type": "code",
   "execution_count": 18,
   "metadata": {},
   "outputs": [
    {
     "name": "stdout",
     "output_type": "stream",
     "text": [
      "r\n",
      "e\n",
      "a\n",
      "d\n",
      "i\n",
      "n\n",
      "g\n",
      "_\n",
      "t\n",
      "i\n",
      "m\n",
      "e\n",
      "t\n",
      "i\n",
      "t\n",
      "l\n",
      "e\n",
      "t\n",
      "e\n",
      "x\n",
      "t\n"
     ]
    }
   ],
   "source": [
    "for col in X_train.columns:\n",
    "    for row in col:\n",
    "        print(row)"
   ]
  },
  {
   "cell_type": "code",
   "execution_count": null,
   "metadata": {},
   "outputs": [],
   "source": [
    "model.fit(X_train, y_train)"
   ]
  },
  {
   "cell_type": "code",
   "execution_count": null,
   "metadata": {},
   "outputs": [],
   "source": []
  }
 ],
 "metadata": {
  "kernelspec": {
   "display_name": "Python 3",
   "language": "python",
   "name": "python3"
  },
  "language_info": {
   "codemirror_mode": {
    "name": "ipython",
    "version": 3
   },
   "file_extension": ".py",
   "mimetype": "text/x-python",
   "name": "python",
   "nbconvert_exporter": "python",
   "pygments_lexer": "ipython3",
   "version": "3.7.7"
  }
 },
 "nbformat": 4,
 "nbformat_minor": 4
}
